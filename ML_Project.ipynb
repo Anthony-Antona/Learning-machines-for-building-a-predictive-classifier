{
 "cells": [
  {
   "cell_type": "markdown",
   "metadata": {
    "id": "9PhcVMECmS7X"
   },
   "source": [
    "**Machine Learning report**\n",
    "\n",
    "*Authors:*\n",
    "\n",
    ">Antonio Antona"
   ]
  },
  {
   "cell_type": "code",
   "execution_count": 125,
   "metadata": {
    "id": "tca17e8LXFTS"
   },
   "outputs": [],
   "source": [
    "import pandas as pd\n",
    "import numpy as np\n",
    "import matplotlib.pyplot as plt\n",
    "from sklearn.model_selection import train_test_split\n",
    "import seaborn as sns"
   ]
  },
  {
   "cell_type": "code",
   "execution_count": 126,
   "metadata": {
    "id": "N3hMORV_XND_"
   },
   "outputs": [],
   "source": [
    "data = pd.read_csv('data_Features.csv')\n",
    "target = pd.read_csv('data_Targets.csv')[\"Y4\"]"
   ]
  },
  {
   "cell_type": "code",
   "execution_count": 127,
   "metadata": {
    "colab": {
     "base_uri": "https://localhost:8080/"
    },
    "id": "_er5OOE1Xa9c",
    "outputId": "cceceb6f-a1b4-4893-8989-83eb8effcdaf"
   },
   "outputs": [
    {
     "name": "stdout",
     "output_type": "stream",
     "text": [
      "(2556,)\n",
      "(2556, 11)\n"
     ]
    }
   ],
   "source": [
    "print(target.shape)\n",
    "print(data.shape)"
   ]
  },
  {
   "cell_type": "code",
   "execution_count": 128,
   "metadata": {
    "colab": {
     "base_uri": "https://localhost:8080/",
     "height": 265
    },
    "id": "1CSaNsYqXdqA",
    "outputId": "4485d952-9e5c-42fe-ad8d-02c5078658d7"
   },
   "outputs": [
    {
     "data": {
      "text/plain": [
       "<matplotlib.axes._subplots.AxesSubplot at 0x7f6e6a038290>"
      ]
     },
     "execution_count": 128,
     "metadata": {},
     "output_type": "execute_result"
    },
    {
     "data": {
      "image/png": "[encoded data removed]",
      "text/plain": [
       "<Figure size 432x288 with 1 Axes>"
      ]
     },
     "metadata": {},
     "output_type": "display_data"
    }
   ],
   "source": [
    "data.dtypes.value_counts().plot.pie()"
   ]
  },
  {
   "cell_type": "code",
   "execution_count": 129,
   "metadata": {
    "colab": {
     "base_uri": "https://localhost:8080/",
     "height": 206
    },
    "id": "jlqxFrNyYChg",
    "outputId": "09d365c6-990c-4072-9ab5-abce8c957a80"
   },
   "outputs": [
    {
     "data": {
      "text/html": [
       "\n",
       "  <div id=\"df-b701ded4-4770-49fd-be8f-e5f242b3469d\">\n",
       "    <div class=\"colab-df-container\">\n",
       "      <div>\n",
       "<style scoped>\n",
       "    .dataframe tbody tr th:only-of-type {\n",
       "        vertical-align: middle;\n",
       "    }\n",
       "\n",
       "    .dataframe tbody tr th {\n",
       "        vertical-align: top;\n",
       "    }\n",
       "\n",
       "    .dataframe thead th {\n",
       "        text-align: right;\n",
       "    }\n",
       "</style>\n",
       "<table border=\"1\" class=\"dataframe\">\n",
       "  <thead>\n",
       "    <tr style=\"text-align: right;\">\n",
       "      <th></th>\n",
       "      <th>time</th>\n",
       "      <th>t2m</th>\n",
       "      <th>u10</th>\n",
       "      <th>v10</th>\n",
       "      <th>SST</th>\n",
       "      <th>SIC</th>\n",
       "      <th>r1_MAR</th>\n",
       "      <th>r2_MAR</th>\n",
       "      <th>r3_MAR</th>\n",
       "      <th>r4_MAR</th>\n",
       "      <th>r5_MAR</th>\n",
       "    </tr>\n",
       "  </thead>\n",
       "  <tbody>\n",
       "    <tr>\n",
       "      <th>0</th>\n",
       "      <td>2013-01-01</td>\n",
       "      <td>-21.926931</td>\n",
       "      <td>-0.973994</td>\n",
       "      <td>3.149094</td>\n",
       "      <td>-1.690511</td>\n",
       "      <td>90.745710</td>\n",
       "      <td>0.034537</td>\n",
       "      <td>0.033345</td>\n",
       "      <td>0.0</td>\n",
       "      <td>0.0</td>\n",
       "      <td>0.0</td>\n",
       "    </tr>\n",
       "    <tr>\n",
       "      <th>1</th>\n",
       "      <td>2013-01-02</td>\n",
       "      <td>-23.696195</td>\n",
       "      <td>-6.502908</td>\n",
       "      <td>2.494894</td>\n",
       "      <td>-1.690511</td>\n",
       "      <td>88.502980</td>\n",
       "      <td>0.034527</td>\n",
       "      <td>0.033326</td>\n",
       "      <td>0.0</td>\n",
       "      <td>0.0</td>\n",
       "      <td>0.0</td>\n",
       "    </tr>\n",
       "    <tr>\n",
       "      <th>2</th>\n",
       "      <td>2013-01-03</td>\n",
       "      <td>-25.644027</td>\n",
       "      <td>-3.557411</td>\n",
       "      <td>1.025486</td>\n",
       "      <td>-1.689860</td>\n",
       "      <td>88.734091</td>\n",
       "      <td>0.034523</td>\n",
       "      <td>0.033321</td>\n",
       "      <td>0.0</td>\n",
       "      <td>0.0</td>\n",
       "      <td>0.0</td>\n",
       "    </tr>\n",
       "    <tr>\n",
       "      <th>3</th>\n",
       "      <td>2013-01-04</td>\n",
       "      <td>-23.566887</td>\n",
       "      <td>-1.888075</td>\n",
       "      <td>-3.486122</td>\n",
       "      <td>-1.690511</td>\n",
       "      <td>89.149576</td>\n",
       "      <td>0.034509</td>\n",
       "      <td>0.033306</td>\n",
       "      <td>0.0</td>\n",
       "      <td>0.0</td>\n",
       "      <td>0.0</td>\n",
       "    </tr>\n",
       "    <tr>\n",
       "      <th>4</th>\n",
       "      <td>2013-01-05</td>\n",
       "      <td>-22.897768</td>\n",
       "      <td>-2.748844</td>\n",
       "      <td>-3.491206</td>\n",
       "      <td>-1.689860</td>\n",
       "      <td>91.613955</td>\n",
       "      <td>0.034492</td>\n",
       "      <td>0.033290</td>\n",
       "      <td>0.0</td>\n",
       "      <td>0.0</td>\n",
       "      <td>0.0</td>\n",
       "    </tr>\n",
       "  </tbody>\n",
       "</table>\n",
       "</div>\n",
       "      <button class=\"colab-df-convert\" onclick=\"convertToInteractive('df-b701ded4-4770-49fd-be8f-e5f242b3469d')\"\n",
       "              title=\"Convert this dataframe to an interactive table.\"\n",
       "              style=\"display:none;\">\n",
       "        \n",
       "  <svg xmlns=\"http://www.w3.org/2000/svg\" height=\"24px\"viewBox=\"0 0 24 24\"\n",
       "       width=\"24px\">\n",
       "    <path d=\"M0 0h24v24H0V0z\" fill=\"none\"/>\n",
       "    <path d=\"M18.56 5.44l.94 2.06.94-2.06 2.06-.94-2.06-.94-.94-2.06-.94 2.06-2.06.94zm-11 1L8.5 8.5l.94-2.06 2.06-.94-2.06-.94L8.5 2.5l-.94 2.06-2.06.94zm10 10l.94 2.06.94-2.06 2.06-.94-2.06-.94-.94-2.06-.94 2.06-2.06.94z\"/><path d=\"M17.41 7.96l-1.37-1.37c-.4-.4-.92-.59-1.43-.59-.52 0-1.04.2-1.43.59L10.3 9.45l-7.72 7.72c-.78.78-.78 2.05 0 2.83L4 21.41c.39.39.9.59 1.41.59.51 0 1.02-.2 1.41-.59l7.78-7.78 2.81-2.81c.8-.78.8-2.07 0-2.86zM5.41 20L4 18.59l7.72-7.72 1.47 1.35L5.41 20z\"/>\n",
       "  </svg>\n",
       "      </button>\n",
       "      \n",
       "  <style>\n",
       "    .colab-df-container {\n",
       "      display:flex;\n",
       "      flex-wrap:wrap;\n",
       "      gap: 12px;\n",
       "    }\n",
       "\n",
       "    .colab-df-convert {\n",
       "      background-color: #E8F0FE;\n",
       "      border: none;\n",
       "      border-radius: 50%;\n",
       "      cursor: pointer;\n",
       "      display: none;\n",
       "      fill: #1967D2;\n",
       "      height: 32px;\n",
       "      padding: 0 0 0 0;\n",
       "      width: 32px;\n",
       "    }\n",
       "\n",
       "    .colab-df-convert:hover {\n",
       "      background-color: #E2EBFA;\n",
       "      box-shadow: 0px 1px 2px rgba(60, 64, 67, 0.3), 0px 1px 3px 1px rgba(60, 64, 67, 0.15);\n",
       "      fill: #174EA6;\n",
       "    }\n",
       "\n",
       "    [theme=dark] .colab-df-convert {\n",
       "      background-color: #3B4455;\n",
       "      fill: #D2E3FC;\n",
       "    }\n",
       "\n",
       "    [theme=dark] .colab-df-convert:hover {\n",
       "      background-color: #434B5C;\n",
       "      box-shadow: 0px 1px 3px 1px rgba(0, 0, 0, 0.15);\n",
       "      filter: drop-shadow(0px 1px 2px rgba(0, 0, 0, 0.3));\n",
       "      fill: #FFFFFF;\n",
       "    }\n",
       "  </style>\n",
       "\n",
       "      <script>\n",
       "        const buttonEl =\n",
       "          document.querySelector('#df-b701ded4-4770-49fd-be8f-e5f242b3469d button.colab-df-convert');\n",
       "        buttonEl.style.display =\n",
       "          google.colab.kernel.accessAllowed ? 'block' : 'none';\n",
       "\n",
       "        async function convertToInteractive(key) {\n",
       "          const element = document.querySelector('#df-b701ded4-4770-49fd-be8f-e5f242b3469d');\n",
       "          const dataTable =\n",
       "            await google.colab.kernel.invokeFunction('convertToInteractive',\n",
       "                                                     [key], {});\n",
       "          if (!dataTable) return;\n",
       "\n",
       "          const docLinkHtml = 'Like what you see? Visit the ' +\n",
       "            '<a target=\"_blank\" href=https://colab.research.google.com/notebooks/data_table.ipynb>data table notebook</a>'\n",
       "            + ' to learn more about interactive tables.';\n",
       "          element.innerHTML = '';\n",
       "          dataTable['output_type'] = 'display_data';\n",
       "          await google.colab.output.renderOutput(dataTable, element);\n",
       "          const docLink = document.createElement('div');\n",
       "          docLink.innerHTML = docLinkHtml;\n",
       "          element.appendChild(docLink);\n",
       "        }\n",
       "      </script>\n",
       "    </div>\n",
       "  </div>\n",
       "  "
      ],
      "text/plain": [
       "         time        t2m       u10       v10       SST        SIC    r1_MAR  \\\n",
       "0  2013-01-01 -21.926931 -0.973994  3.149094 -1.690511  90.745710  0.034537   \n",
       "1  2013-01-02 -23.696195 -6.502908  2.494894 -1.690511  88.502980  0.034527   \n",
       "2  2013-01-03 -25.644027 -3.557411  1.025486 -1.689860  88.734091  0.034523   \n",
       "3  2013-01-04 -23.566887 -1.888075 -3.486122 -1.690511  89.149576  0.034509   \n",
       "4  2013-01-05 -22.897768 -2.748844 -3.491206 -1.689860  91.613955  0.034492   \n",
       "\n",
       "     r2_MAR  r3_MAR  r4_MAR  r5_MAR  \n",
       "0  0.033345     0.0     0.0     0.0  \n",
       "1  0.033326     0.0     0.0     0.0  \n",
       "2  0.033321     0.0     0.0     0.0  \n",
       "3  0.033306     0.0     0.0     0.0  \n",
       "4  0.033290     0.0     0.0     0.0  "
      ]
     },
     "execution_count": 129,
     "metadata": {},
     "output_type": "execute_result"
    }
   ],
   "source": [
    "data.head()"
   ]
  },
  {
   "cell_type": "markdown",
   "metadata": {
    "id": "myBCq0ouYH8_"
   },
   "source": [
    "## **Analysis of the target column**\n",
    "**Transform the target variable into a binary variable using an appropriate and motivated threshold.**\n",
    "\n",
    "So we can see that the data is very poorly distributed. This is because most of the data in the target variable is 0 (about 75%) ."
   ]
  },
  {
   "cell_type": "code",
   "execution_count": 130,
   "metadata": {
    "colab": {
     "base_uri": "https://localhost:8080/",
     "height": 474
    },
    "id": "4VLYTOZxYLTn",
    "outputId": "f5ffcfee-a47d-4ae9-fe9f-3f50919e7f86"
   },
   "outputs": [
    {
     "name": "stdout",
     "output_type": "stream",
     "text": [
      "0      2054\n",
      "1       192\n",
      "2        58\n",
      "3        33\n",
      "4        27\n",
      "       ... \n",
      "49        1\n",
      "82        1\n",
      "241       1\n",
      "150       1\n",
      "238       1\n",
      "Name: Y4, Length: 78, dtype: int64\n"
     ]
    },
    {
     "data": {
      "text/plain": [
       "<matplotlib.axes._subplots.AxesSubplot at 0x7f6e6a068490>"
      ]
     },
     "execution_count": 130,
     "metadata": {},
     "output_type": "execute_result"
    },
    {
     "data": {
      "image/png": "[encoded data removed]",
      "text/plain": [
       "<Figure size 432x288 with 1 Axes>"
      ]
     },
     "metadata": {},
     "output_type": "display_data"
    }
   ],
   "source": [
    "print(target.value_counts())\n",
    "target.value_counts().plot.pie()"
   ]
  },
  {
   "cell_type": "markdown",
   "metadata": {
    "id": "_mRibQ2EYNht"
   },
   "source": [
    "## **Preprocessing**"
   ]
  },
  {
   "cell_type": "code",
   "execution_count": 131,
   "metadata": {
    "colab": {
     "base_uri": "https://localhost:8080/",
     "height": 334
    },
    "id": "PAQdHS9WYQEn",
    "outputId": "904fa79d-9c2c-483c-eb38-c62c86566284"
   },
   "outputs": [
    {
     "data": {
      "text/plain": [
       "(array([2054.,    0.,    0.,    0.,    0.,    0.,    0.,    0.,    0.,\n",
       "         502.]),\n",
       " array([0. , 0.1, 0.2, 0.3, 0.4, 0.5, 0.6, 0.7, 0.8, 0.9, 1. ]),\n",
       " <a list of 10 Patch objects>)"
      ]
     },
     "execution_count": 131,
     "metadata": {},
     "output_type": "execute_result"
    },
    {
     "data": {
      "image/png": "[encoded data removed]",
      "text/plain": [
       "<Figure size 432x288 with 1 Axes>"
      ]
     },
     "metadata": {
      "needs_background": "light"
     },
     "output_type": "display_data"
    }
   ],
   "source": [
    "L = []\n",
    "\n",
    "for x in target:\n",
    "    if x == 0:\n",
    "        L.append(0)\n",
    "    else:\n",
    "        L.append(1)\n",
    "\n",
    "target = L\n",
    "\n",
    "plt.hist(target)"
   ]
  },
  {
   "cell_type": "code",
   "execution_count": 132,
   "metadata": {
    "colab": {
     "base_uri": "https://localhost:8080/",
     "height": 206
    },
    "id": "scIaF5aXYStR",
    "outputId": "8db5080a-5a32-4be3-8469-9c4814f76636"
   },
   "outputs": [
    {
     "data": {
      "text/html": [
       "\n",
       "  <div id=\"df-a7d1faca-cfb5-4865-acb2-36c2c621d9c2\">\n",
       "    <div class=\"colab-df-container\">\n",
       "      <div>\n",
       "<style scoped>\n",
       "    .dataframe tbody tr th:only-of-type {\n",
       "        vertical-align: middle;\n",
       "    }\n",
       "\n",
       "    .dataframe tbody tr th {\n",
       "        vertical-align: top;\n",
       "    }\n",
       "\n",
       "    .dataframe thead th {\n",
       "        text-align: right;\n",
       "    }\n",
       "</style>\n",
       "<table border=\"1\" class=\"dataframe\">\n",
       "  <thead>\n",
       "    <tr style=\"text-align: right;\">\n",
       "      <th></th>\n",
       "      <th>time</th>\n",
       "      <th>t2m</th>\n",
       "      <th>u10</th>\n",
       "      <th>v10</th>\n",
       "      <th>SST</th>\n",
       "      <th>SIC</th>\n",
       "      <th>r1_MAR</th>\n",
       "      <th>r2_MAR</th>\n",
       "      <th>r3_MAR</th>\n",
       "      <th>r4_MAR</th>\n",
       "      <th>r5_MAR</th>\n",
       "      <th>Y4</th>\n",
       "    </tr>\n",
       "  </thead>\n",
       "  <tbody>\n",
       "    <tr>\n",
       "      <th>0</th>\n",
       "      <td>2013-01-01</td>\n",
       "      <td>-21.926931</td>\n",
       "      <td>-0.973994</td>\n",
       "      <td>3.149094</td>\n",
       "      <td>-1.690511</td>\n",
       "      <td>90.745710</td>\n",
       "      <td>0.034537</td>\n",
       "      <td>0.033345</td>\n",
       "      <td>0.0</td>\n",
       "      <td>0.0</td>\n",
       "      <td>0.0</td>\n",
       "      <td>0</td>\n",
       "    </tr>\n",
       "    <tr>\n",
       "      <th>1</th>\n",
       "      <td>2013-01-02</td>\n",
       "      <td>-23.696195</td>\n",
       "      <td>-6.502908</td>\n",
       "      <td>2.494894</td>\n",
       "      <td>-1.690511</td>\n",
       "      <td>88.502980</td>\n",
       "      <td>0.034527</td>\n",
       "      <td>0.033326</td>\n",
       "      <td>0.0</td>\n",
       "      <td>0.0</td>\n",
       "      <td>0.0</td>\n",
       "      <td>0</td>\n",
       "    </tr>\n",
       "    <tr>\n",
       "      <th>2</th>\n",
       "      <td>2013-01-03</td>\n",
       "      <td>-25.644027</td>\n",
       "      <td>-3.557411</td>\n",
       "      <td>1.025486</td>\n",
       "      <td>-1.689860</td>\n",
       "      <td>88.734091</td>\n",
       "      <td>0.034523</td>\n",
       "      <td>0.033321</td>\n",
       "      <td>0.0</td>\n",
       "      <td>0.0</td>\n",
       "      <td>0.0</td>\n",
       "      <td>0</td>\n",
       "    </tr>\n",
       "    <tr>\n",
       "      <th>3</th>\n",
       "      <td>2013-01-04</td>\n",
       "      <td>-23.566887</td>\n",
       "      <td>-1.888075</td>\n",
       "      <td>-3.486122</td>\n",
       "      <td>-1.690511</td>\n",
       "      <td>89.149576</td>\n",
       "      <td>0.034509</td>\n",
       "      <td>0.033306</td>\n",
       "      <td>0.0</td>\n",
       "      <td>0.0</td>\n",
       "      <td>0.0</td>\n",
       "      <td>0</td>\n",
       "    </tr>\n",
       "    <tr>\n",
       "      <th>4</th>\n",
       "      <td>2013-01-05</td>\n",
       "      <td>-22.897768</td>\n",
       "      <td>-2.748844</td>\n",
       "      <td>-3.491206</td>\n",
       "      <td>-1.689860</td>\n",
       "      <td>91.613955</td>\n",
       "      <td>0.034492</td>\n",
       "      <td>0.033290</td>\n",
       "      <td>0.0</td>\n",
       "      <td>0.0</td>\n",
       "      <td>0.0</td>\n",
       "      <td>0</td>\n",
       "    </tr>\n",
       "  </tbody>\n",
       "</table>\n",
       "</div>\n",
       "      <button class=\"colab-df-convert\" onclick=\"convertToInteractive('df-a7d1faca-cfb5-4865-acb2-36c2c621d9c2')\"\n",
       "              title=\"Convert this dataframe to an interactive table.\"\n",
       "              style=\"display:none;\">\n",
       "        \n",
       "  <svg xmlns=\"http://www.w3.org/2000/svg\" height=\"24px\"viewBox=\"0 0 24 24\"\n",
       "       width=\"24px\">\n",
       "    <path d=\"M0 0h24v24H0V0z\" fill=\"none\"/>\n",
       "    <path d=\"M18.56 5.44l.94 2.06.94-2.06 2.06-.94-2.06-.94-.94-2.06-.94 2.06-2.06.94zm-11 1L8.5 8.5l.94-2.06 2.06-.94-2.06-.94L8.5 2.5l-.94 2.06-2.06.94zm10 10l.94 2.06.94-2.06 2.06-.94-2.06-.94-.94-2.06-.94 2.06-2.06.94z\"/><path d=\"M17.41 7.96l-1.37-1.37c-.4-.4-.92-.59-1.43-.59-.52 0-1.04.2-1.43.59L10.3 9.45l-7.72 7.72c-.78.78-.78 2.05 0 2.83L4 21.41c.39.39.9.59 1.41.59.51 0 1.02-.2 1.41-.59l7.78-7.78 2.81-2.81c.8-.78.8-2.07 0-2.86zM5.41 20L4 18.59l7.72-7.72 1.47 1.35L5.41 20z\"/>\n",
       "  </svg>\n",
       "      </button>\n",
       "      \n",
       "  <style>\n",
       "    .colab-df-container {\n",
       "      display:flex;\n",
       "      flex-wrap:wrap;\n",
       "      gap: 12px;\n",
       "    }\n",
       "\n",
       "    .colab-df-convert {\n",
       "      background-color: #E8F0FE;\n",
       "      border: none;\n",
       "      border-radius: 50%;\n",
       "      cursor: pointer;\n",
       "      display: none;\n",
       "      fill: #1967D2;\n",
       "      height: 32px;\n",
       "      padding: 0 0 0 0;\n",
       "      width: 32px;\n",
       "    }\n",
       "\n",
       "    .colab-df-convert:hover {\n",
       "      background-color: #E2EBFA;\n",
       "      box-shadow: 0px 1px 2px rgba(60, 64, 67, 0.3), 0px 1px 3px 1px rgba(60, 64, 67, 0.15);\n",
       "      fill: #174EA6;\n",
       "    }\n",
       "\n",
       "    [theme=dark] .colab-df-convert {\n",
       "      background-color: #3B4455;\n",
       "      fill: #D2E3FC;\n",
       "    }\n",
       "\n",
       "    [theme=dark] .colab-df-convert:hover {\n",
       "      background-color: #434B5C;\n",
       "      box-shadow: 0px 1px 3px 1px rgba(0, 0, 0, 0.15);\n",
       "      filter: drop-shadow(0px 1px 2px rgba(0, 0, 0, 0.3));\n",
       "      fill: #FFFFFF;\n",
       "    }\n",
       "  </style>\n",
       "\n",
       "      <script>\n",
       "        const buttonEl =\n",
       "          document.querySelector('#df-a7d1faca-cfb5-4865-acb2-36c2c621d9c2 button.colab-df-convert');\n",
       "        buttonEl.style.display =\n",
       "          google.colab.kernel.accessAllowed ? 'block' : 'none';\n",
       "\n",
       "        async function convertToInteractive(key) {\n",
       "          const element = document.querySelector('#df-a7d1faca-cfb5-4865-acb2-36c2c621d9c2');\n",
       "          const dataTable =\n",
       "            await google.colab.kernel.invokeFunction('convertToInteractive',\n",
       "                                                     [key], {});\n",
       "          if (!dataTable) return;\n",
       "\n",
       "          const docLinkHtml = 'Like what you see? Visit the ' +\n",
       "            '<a target=\"_blank\" href=https://colab.research.google.com/notebooks/data_table.ipynb>data table notebook</a>'\n",
       "            + ' to learn more about interactive tables.';\n",
       "          element.innerHTML = '';\n",
       "          dataTable['output_type'] = 'display_data';\n",
       "          await google.colab.output.renderOutput(dataTable, element);\n",
       "          const docLink = document.createElement('div');\n",
       "          docLink.innerHTML = docLinkHtml;\n",
       "          element.appendChild(docLink);\n",
       "        }\n",
       "      </script>\n",
       "    </div>\n",
       "  </div>\n",
       "  "
      ],
      "text/plain": [
       "         time        t2m       u10       v10       SST        SIC    r1_MAR  \\\n",
       "0  2013-01-01 -21.926931 -0.973994  3.149094 -1.690511  90.745710  0.034537   \n",
       "1  2013-01-02 -23.696195 -6.502908  2.494894 -1.690511  88.502980  0.034527   \n",
       "2  2013-01-03 -25.644027 -3.557411  1.025486 -1.689860  88.734091  0.034523   \n",
       "3  2013-01-04 -23.566887 -1.888075 -3.486122 -1.690511  89.149576  0.034509   \n",
       "4  2013-01-05 -22.897768 -2.748844 -3.491206 -1.689860  91.613955  0.034492   \n",
       "\n",
       "     r2_MAR  r3_MAR  r4_MAR  r5_MAR  Y4  \n",
       "0  0.033345     0.0     0.0     0.0   0  \n",
       "1  0.033326     0.0     0.0     0.0   0  \n",
       "2  0.033321     0.0     0.0     0.0   0  \n",
       "3  0.033306     0.0     0.0     0.0   0  \n",
       "4  0.033290     0.0     0.0     0.0   0  "
      ]
     },
     "execution_count": 132,
     "metadata": {},
     "output_type": "execute_result"
    }
   ],
   "source": [
    "finalData = data\n",
    "finalData[\"Y4\"] = target\n",
    "finalData.head()"
   ]
  },
  {
   "cell_type": "code",
   "execution_count": 133,
   "metadata": {
    "colab": {
     "base_uri": "https://localhost:8080/",
     "height": 206
    },
    "id": "1NpSKWJSYTIu",
    "outputId": "42818f37-822e-4f2b-e51e-5b5306056d5a"
   },
   "outputs": [
    {
     "data": {
      "text/html": [
       "\n",
       "  <div id=\"df-92e9f70c-0442-495c-877d-3c3a8489a782\">\n",
       "    <div class=\"colab-df-container\">\n",
       "      <div>\n",
       "<style scoped>\n",
       "    .dataframe tbody tr th:only-of-type {\n",
       "        vertical-align: middle;\n",
       "    }\n",
       "\n",
       "    .dataframe tbody tr th {\n",
       "        vertical-align: top;\n",
       "    }\n",
       "\n",
       "    .dataframe thead th {\n",
       "        text-align: right;\n",
       "    }\n",
       "</style>\n",
       "<table border=\"1\" class=\"dataframe\">\n",
       "  <thead>\n",
       "    <tr style=\"text-align: right;\">\n",
       "      <th></th>\n",
       "      <th>t2m</th>\n",
       "      <th>u10</th>\n",
       "      <th>v10</th>\n",
       "      <th>SST</th>\n",
       "      <th>SIC</th>\n",
       "      <th>r1_MAR</th>\n",
       "      <th>r2_MAR</th>\n",
       "      <th>r3_MAR</th>\n",
       "      <th>r4_MAR</th>\n",
       "      <th>r5_MAR</th>\n",
       "      <th>Y4</th>\n",
       "    </tr>\n",
       "  </thead>\n",
       "  <tbody>\n",
       "    <tr>\n",
       "      <th>0</th>\n",
       "      <td>-21.926931</td>\n",
       "      <td>-0.973994</td>\n",
       "      <td>3.149094</td>\n",
       "      <td>-1.690511</td>\n",
       "      <td>90.745710</td>\n",
       "      <td>0.034537</td>\n",
       "      <td>0.033345</td>\n",
       "      <td>0.0</td>\n",
       "      <td>0.0</td>\n",
       "      <td>0.0</td>\n",
       "      <td>0</td>\n",
       "    </tr>\n",
       "    <tr>\n",
       "      <th>1</th>\n",
       "      <td>-23.696195</td>\n",
       "      <td>-6.502908</td>\n",
       "      <td>2.494894</td>\n",
       "      <td>-1.690511</td>\n",
       "      <td>88.502980</td>\n",
       "      <td>0.034527</td>\n",
       "      <td>0.033326</td>\n",
       "      <td>0.0</td>\n",
       "      <td>0.0</td>\n",
       "      <td>0.0</td>\n",
       "      <td>0</td>\n",
       "    </tr>\n",
       "    <tr>\n",
       "      <th>2</th>\n",
       "      <td>-25.644027</td>\n",
       "      <td>-3.557411</td>\n",
       "      <td>1.025486</td>\n",
       "      <td>-1.689860</td>\n",
       "      <td>88.734091</td>\n",
       "      <td>0.034523</td>\n",
       "      <td>0.033321</td>\n",
       "      <td>0.0</td>\n",
       "      <td>0.0</td>\n",
       "      <td>0.0</td>\n",
       "      <td>0</td>\n",
       "    </tr>\n",
       "    <tr>\n",
       "      <th>3</th>\n",
       "      <td>-23.566887</td>\n",
       "      <td>-1.888075</td>\n",
       "      <td>-3.486122</td>\n",
       "      <td>-1.690511</td>\n",
       "      <td>89.149576</td>\n",
       "      <td>0.034509</td>\n",
       "      <td>0.033306</td>\n",
       "      <td>0.0</td>\n",
       "      <td>0.0</td>\n",
       "      <td>0.0</td>\n",
       "      <td>0</td>\n",
       "    </tr>\n",
       "    <tr>\n",
       "      <th>4</th>\n",
       "      <td>-22.897768</td>\n",
       "      <td>-2.748844</td>\n",
       "      <td>-3.491206</td>\n",
       "      <td>-1.689860</td>\n",
       "      <td>91.613955</td>\n",
       "      <td>0.034492</td>\n",
       "      <td>0.033290</td>\n",
       "      <td>0.0</td>\n",
       "      <td>0.0</td>\n",
       "      <td>0.0</td>\n",
       "      <td>0</td>\n",
       "    </tr>\n",
       "  </tbody>\n",
       "</table>\n",
       "</div>\n",
       "      <button class=\"colab-df-convert\" onclick=\"convertToInteractive('df-92e9f70c-0442-495c-877d-3c3a8489a782')\"\n",
       "              title=\"Convert this dataframe to an interactive table.\"\n",
       "              style=\"display:none;\">\n",
       "        \n",
       "  <svg xmlns=\"http://www.w3.org/2000/svg\" height=\"24px\"viewBox=\"0 0 24 24\"\n",
       "       width=\"24px\">\n",
       "    <path d=\"M0 0h24v24H0V0z\" fill=\"none\"/>\n",
       "    <path d=\"M18.56 5.44l.94 2.06.94-2.06 2.06-.94-2.06-.94-.94-2.06-.94 2.06-2.06.94zm-11 1L8.5 8.5l.94-2.06 2.06-.94-2.06-.94L8.5 2.5l-.94 2.06-2.06.94zm10 10l.94 2.06.94-2.06 2.06-.94-2.06-.94-.94-2.06-.94 2.06-2.06.94z\"/><path d=\"M17.41 7.96l-1.37-1.37c-.4-.4-.92-.59-1.43-.59-.52 0-1.04.2-1.43.59L10.3 9.45l-7.72 7.72c-.78.78-.78 2.05 0 2.83L4 21.41c.39.39.9.59 1.41.59.51 0 1.02-.2 1.41-.59l7.78-7.78 2.81-2.81c.8-.78.8-2.07 0-2.86zM5.41 20L4 18.59l7.72-7.72 1.47 1.35L5.41 20z\"/>\n",
       "  </svg>\n",
       "      </button>\n",
       "      \n",
       "  <style>\n",
       "    .colab-df-container {\n",
       "      display:flex;\n",
       "      flex-wrap:wrap;\n",
       "      gap: 12px;\n",
       "    }\n",
       "\n",
       "    .colab-df-convert {\n",
       "      background-color: #E8F0FE;\n",
       "      border: none;\n",
       "      border-radius: 50%;\n",
       "      cursor: pointer;\n",
       "      display: none;\n",
       "      fill: #1967D2;\n",
       "      height: 32px;\n",
       "      padding: 0 0 0 0;\n",
       "      width: 32px;\n",
       "    }\n",
       "\n",
       "    .colab-df-convert:hover {\n",
       "      background-color: #E2EBFA;\n",
       "      box-shadow: 0px 1px 2px rgba(60, 64, 67, 0.3), 0px 1px 3px 1px rgba(60, 64, 67, 0.15);\n",
       "      fill: #174EA6;\n",
       "    }\n",
       "\n",
       "    [theme=dark] .colab-df-convert {\n",
       "      background-color: #3B4455;\n",
       "      fill: #D2E3FC;\n",
       "    }\n",
       "\n",
       "    [theme=dark] .colab-df-convert:hover {\n",
       "      background-color: #434B5C;\n",
       "      box-shadow: 0px 1px 3px 1px rgba(0, 0, 0, 0.15);\n",
       "      filter: drop-shadow(0px 1px 2px rgba(0, 0, 0, 0.3));\n",
       "      fill: #FFFFFF;\n",
       "    }\n",
       "  </style>\n",
       "\n",
       "      <script>\n",
       "        const buttonEl =\n",
       "          document.querySelector('#df-92e9f70c-0442-495c-877d-3c3a8489a782 button.colab-df-convert');\n",
       "        buttonEl.style.display =\n",
       "          google.colab.kernel.accessAllowed ? 'block' : 'none';\n",
       "\n",
       "        async function convertToInteractive(key) {\n",
       "          const element = document.querySelector('#df-92e9f70c-0442-495c-877d-3c3a8489a782');\n",
       "          const dataTable =\n",
       "            await google.colab.kernel.invokeFunction('convertToInteractive',\n",
       "                                                     [key], {});\n",
       "          if (!dataTable) return;\n",
       "\n",
       "          const docLinkHtml = 'Like what you see? Visit the ' +\n",
       "            '<a target=\"_blank\" href=https://colab.research.google.com/notebooks/data_table.ipynb>data table notebook</a>'\n",
       "            + ' to learn more about interactive tables.';\n",
       "          element.innerHTML = '';\n",
       "          dataTable['output_type'] = 'display_data';\n",
       "          await google.colab.output.renderOutput(dataTable, element);\n",
       "          const docLink = document.createElement('div');\n",
       "          docLink.innerHTML = docLinkHtml;\n",
       "          element.appendChild(docLink);\n",
       "        }\n",
       "      </script>\n",
       "    </div>\n",
       "  </div>\n",
       "  "
      ],
      "text/plain": [
       "         t2m       u10       v10       SST        SIC    r1_MAR    r2_MAR  \\\n",
       "0 -21.926931 -0.973994  3.149094 -1.690511  90.745710  0.034537  0.033345   \n",
       "1 -23.696195 -6.502908  2.494894 -1.690511  88.502980  0.034527  0.033326   \n",
       "2 -25.644027 -3.557411  1.025486 -1.689860  88.734091  0.034523  0.033321   \n",
       "3 -23.566887 -1.888075 -3.486122 -1.690511  89.149576  0.034509  0.033306   \n",
       "4 -22.897768 -2.748844 -3.491206 -1.689860  91.613955  0.034492  0.033290   \n",
       "\n",
       "   r3_MAR  r4_MAR  r5_MAR  Y4  \n",
       "0     0.0     0.0     0.0   0  \n",
       "1     0.0     0.0     0.0   0  \n",
       "2     0.0     0.0     0.0   0  \n",
       "3     0.0     0.0     0.0   0  \n",
       "4     0.0     0.0     0.0   0  "
      ]
     },
     "execution_count": 133,
     "metadata": {},
     "output_type": "execute_result"
    }
   ],
   "source": [
    "#In order to use the models we will first work without the variable time which poses problems\n",
    "finalData = finalData.drop([\"time\"] , axis = 1)\n",
    "finalData.head()"
   ]
  },
  {
   "cell_type": "markdown",
   "metadata": {
    "id": "gAZTknIoN_cg"
   },
   "source": [
    "Now let's take into account the correlation between our variables"
   ]
  },
  {
   "cell_type": "code",
   "execution_count": 134,
   "metadata": {
    "colab": {
     "base_uri": "https://localhost:8080/",
     "height": 596
    },
    "id": "H0-DGWr4NEjw",
    "outputId": "15e15ad2-6583-4354-b22c-71d7fbdc971c"
   },
   "outputs": [
    {
     "data": {
      "image/png": "[encoded data removed]",
      "text/plain": [
       "<Figure size 1080x720 with 2 Axes>"
      ]
     },
     "metadata": {
      "needs_background": "light"
     },
     "output_type": "display_data"
    }
   ],
   "source": [
    "plt.figure(figsize=(15, 10))\n",
    "corrMatrix = finalData.corr()\n",
    "sns.heatmap(corrMatrix, annot=True)\n",
    "plt.show()"
   ]
  },
  {
   "cell_type": "code",
   "execution_count": 135,
   "metadata": {
    "colab": {
     "base_uri": "https://localhost:8080/"
    },
    "id": "hecjqszSOBtA",
    "outputId": "982f81e1-2c16-4c19-c131-1d69f311c6e9"
   },
   "outputs": [
    {
     "name": "stdout",
     "output_type": "stream",
     "text": [
      "['r2_MAR', 'r3_MAR', 'r4_MAR', 'r5_MAR']\n"
     ]
    }
   ],
   "source": [
    "N = corrMatrix.where(np.triu(np.ones(corrMatrix.shape), k=1).astype(bool))\n",
    "print([c for c in N.columns if any(abs(N[c]) > 0.9)])"
   ]
  },
  {
   "cell_type": "markdown",
   "metadata": {
    "id": "VxbZBR4YOD6Z"
   },
   "source": [
    "Thus, we observe that the variables 'r2_MAR', 'r3_MAR', 'r4_MAR', 'r5_MAR' seem particularly correlated and have even exceeded our maximum correlation threshold fixed at 0.9.\n",
    "Thus several options are available to us: The first is to take this correlation into account and build a new variable NewVariable containing the average of the correlated variables and then delete the variables mentioned. However, doing this would deprive us of a lot of data that can be useful in our model. This is why we decide not to immediately remove these variables."
   ]
  },
  {
   "cell_type": "markdown",
   "metadata": {
    "id": "Ejxn1tDpYX0O"
   },
   "source": [
    "##**Test and train set**"
   ]
  },
  {
   "cell_type": "code",
   "execution_count": 136,
   "metadata": {
    "id": "fKw34kNZXOxO"
   },
   "outputs": [],
   "source": [
    "from sklearn.model_selection import train_test_split"
   ]
  },
  {
   "cell_type": "code",
   "execution_count": 137,
   "metadata": {
    "id": "joHYuIqxYjcd"
   },
   "outputs": [],
   "source": [
    "trainset, testset = train_test_split(finalData, test_size=0.2, random_state=0)"
   ]
  },
  {
   "cell_type": "code",
   "execution_count": 138,
   "metadata": {
    "colab": {
     "base_uri": "https://localhost:8080/"
    },
    "id": "Si-LKIXvYlVX",
    "outputId": "8766b6ee-f767-43ea-b8bd-1515f5d73409"
   },
   "outputs": [
    {
     "data": {
      "text/plain": [
       "(2044, 11)"
      ]
     },
     "execution_count": 138,
     "metadata": {},
     "output_type": "execute_result"
    }
   ],
   "source": [
    "trainset.shape"
   ]
  },
  {
   "cell_type": "code",
   "execution_count": 139,
   "metadata": {
    "colab": {
     "base_uri": "https://localhost:8080/"
    },
    "id": "MMfvJ4MHYmyV",
    "outputId": "71a7f046-ab1c-4c21-8c39-68c31bc4cd26"
   },
   "outputs": [
    {
     "data": {
      "text/plain": [
       "(512, 11)"
      ]
     },
     "execution_count": 139,
     "metadata": {},
     "output_type": "execute_result"
    }
   ],
   "source": [
    "testset.shape"
   ]
  },
  {
   "cell_type": "code",
   "execution_count": 140,
   "metadata": {
    "colab": {
     "base_uri": "https://localhost:8080/",
     "height": 206
    },
    "id": "_ESnGRQ3YrTi",
    "outputId": "0983aa96-573f-4d44-8c80-ed20d13bf95f"
   },
   "outputs": [
    {
     "data": {
      "text/html": [
       "\n",
       "  <div id=\"df-6ceef186-1bbf-42bb-8fcf-81257e40ddd6\">\n",
       "    <div class=\"colab-df-container\">\n",
       "      <div>\n",
       "<style scoped>\n",
       "    .dataframe tbody tr th:only-of-type {\n",
       "        vertical-align: middle;\n",
       "    }\n",
       "\n",
       "    .dataframe tbody tr th {\n",
       "        vertical-align: top;\n",
       "    }\n",
       "\n",
       "    .dataframe thead th {\n",
       "        text-align: right;\n",
       "    }\n",
       "</style>\n",
       "<table border=\"1\" class=\"dataframe\">\n",
       "  <thead>\n",
       "    <tr style=\"text-align: right;\">\n",
       "      <th></th>\n",
       "      <th>t2m</th>\n",
       "      <th>u10</th>\n",
       "      <th>v10</th>\n",
       "      <th>SST</th>\n",
       "      <th>SIC</th>\n",
       "      <th>r1_MAR</th>\n",
       "      <th>r2_MAR</th>\n",
       "      <th>r3_MAR</th>\n",
       "      <th>r4_MAR</th>\n",
       "      <th>r5_MAR</th>\n",
       "      <th>Y4</th>\n",
       "    </tr>\n",
       "  </thead>\n",
       "  <tbody>\n",
       "    <tr>\n",
       "      <th>1721</th>\n",
       "      <td>0.020556</td>\n",
       "      <td>7.363804</td>\n",
       "      <td>-2.125182</td>\n",
       "      <td>-0.122643</td>\n",
       "      <td>70.000000</td>\n",
       "      <td>1.025703</td>\n",
       "      <td>1.025662</td>\n",
       "      <td>0.0</td>\n",
       "      <td>0.000000e+00</td>\n",
       "      <td>0.000000e+00</td>\n",
       "      <td>0</td>\n",
       "    </tr>\n",
       "    <tr>\n",
       "      <th>2189</th>\n",
       "      <td>-14.552263</td>\n",
       "      <td>8.235680</td>\n",
       "      <td>2.681324</td>\n",
       "      <td>-1.689860</td>\n",
       "      <td>92.051823</td>\n",
       "      <td>0.348598</td>\n",
       "      <td>0.342233</td>\n",
       "      <td>0.0</td>\n",
       "      <td>0.000000e+00</td>\n",
       "      <td>0.000000e+00</td>\n",
       "      <td>0</td>\n",
       "    </tr>\n",
       "    <tr>\n",
       "      <th>1098</th>\n",
       "      <td>-7.382847</td>\n",
       "      <td>9.746191</td>\n",
       "      <td>-5.343643</td>\n",
       "      <td>-1.689860</td>\n",
       "      <td>93.822372</td>\n",
       "      <td>0.101479</td>\n",
       "      <td>0.101479</td>\n",
       "      <td>0.0</td>\n",
       "      <td>0.000000e+00</td>\n",
       "      <td>0.000000e+00</td>\n",
       "      <td>0</td>\n",
       "    </tr>\n",
       "    <tr>\n",
       "      <th>1002</th>\n",
       "      <td>0.225807</td>\n",
       "      <td>11.379986</td>\n",
       "      <td>-1.245571</td>\n",
       "      <td>-0.797652</td>\n",
       "      <td>70.000000</td>\n",
       "      <td>1.132794</td>\n",
       "      <td>1.132709</td>\n",
       "      <td>0.0</td>\n",
       "      <td>8.906308e-13</td>\n",
       "      <td>1.129686e-11</td>\n",
       "      <td>0</td>\n",
       "    </tr>\n",
       "    <tr>\n",
       "      <th>776</th>\n",
       "      <td>-20.713898</td>\n",
       "      <td>4.038459</td>\n",
       "      <td>-1.860791</td>\n",
       "      <td>-1.689210</td>\n",
       "      <td>94.932907</td>\n",
       "      <td>0.000000</td>\n",
       "      <td>0.000000</td>\n",
       "      <td>0.0</td>\n",
       "      <td>0.000000e+00</td>\n",
       "      <td>0.000000e+00</td>\n",
       "      <td>1</td>\n",
       "    </tr>\n",
       "  </tbody>\n",
       "</table>\n",
       "</div>\n",
       "      <button class=\"colab-df-convert\" onclick=\"convertToInteractive('df-6ceef186-1bbf-42bb-8fcf-81257e40ddd6')\"\n",
       "              title=\"Convert this dataframe to an interactive table.\"\n",
       "              style=\"display:none;\">\n",
       "        \n",
       "  <svg xmlns=\"http://www.w3.org/2000/svg\" height=\"24px\"viewBox=\"0 0 24 24\"\n",
       "       width=\"24px\">\n",
       "    <path d=\"M0 0h24v24H0V0z\" fill=\"none\"/>\n",
       "    <path d=\"M18.56 5.44l.94 2.06.94-2.06 2.06-.94-2.06-.94-.94-2.06-.94 2.06-2.06.94zm-11 1L8.5 8.5l.94-2.06 2.06-.94-2.06-.94L8.5 2.5l-.94 2.06-2.06.94zm10 10l.94 2.06.94-2.06 2.06-.94-2.06-.94-.94-2.06-.94 2.06-2.06.94z\"/><path d=\"M17.41 7.96l-1.37-1.37c-.4-.4-.92-.59-1.43-.59-.52 0-1.04.2-1.43.59L10.3 9.45l-7.72 7.72c-.78.78-.78 2.05 0 2.83L4 21.41c.39.39.9.59 1.41.59.51 0 1.02-.2 1.41-.59l7.78-7.78 2.81-2.81c.8-.78.8-2.07 0-2.86zM5.41 20L4 18.59l7.72-7.72 1.47 1.35L5.41 20z\"/>\n",
       "  </svg>\n",
       "      </button>\n",
       "      \n",
       "  <style>\n",
       "    .colab-df-container {\n",
       "      display:flex;\n",
       "      flex-wrap:wrap;\n",
       "      gap: 12px;\n",
       "    }\n",
       "\n",
       "    .colab-df-convert {\n",
       "      background-color: #E8F0FE;\n",
       "      border: none;\n",
       "      border-radius: 50%;\n",
       "      cursor: pointer;\n",
       "      display: none;\n",
       "      fill: #1967D2;\n",
       "      height: 32px;\n",
       "      padding: 0 0 0 0;\n",
       "      width: 32px;\n",
       "    }\n",
       "\n",
       "    .colab-df-convert:hover {\n",
       "      background-color: #E2EBFA;\n",
       "      box-shadow: 0px 1px 2px rgba(60, 64, 67, 0.3), 0px 1px 3px 1px rgba(60, 64, 67, 0.15);\n",
       "      fill: #174EA6;\n",
       "    }\n",
       "\n",
       "    [theme=dark] .colab-df-convert {\n",
       "      background-color: #3B4455;\n",
       "      fill: #D2E3FC;\n",
       "    }\n",
       "\n",
       "    [theme=dark] .colab-df-convert:hover {\n",
       "      background-color: #434B5C;\n",
       "      box-shadow: 0px 1px 3px 1px rgba(0, 0, 0, 0.15);\n",
       "      filter: drop-shadow(0px 1px 2px rgba(0, 0, 0, 0.3));\n",
       "      fill: #FFFFFF;\n",
       "    }\n",
       "  </style>\n",
       "\n",
       "      <script>\n",
       "        const buttonEl =\n",
       "          document.querySelector('#df-6ceef186-1bbf-42bb-8fcf-81257e40ddd6 button.colab-df-convert');\n",
       "        buttonEl.style.display =\n",
       "          google.colab.kernel.accessAllowed ? 'block' : 'none';\n",
       "\n",
       "        async function convertToInteractive(key) {\n",
       "          const element = document.querySelector('#df-6ceef186-1bbf-42bb-8fcf-81257e40ddd6');\n",
       "          const dataTable =\n",
       "            await google.colab.kernel.invokeFunction('convertToInteractive',\n",
       "                                                     [key], {});\n",
       "          if (!dataTable) return;\n",
       "\n",
       "          const docLinkHtml = 'Like what you see? Visit the ' +\n",
       "            '<a target=\"_blank\" href=https://colab.research.google.com/notebooks/data_table.ipynb>data table notebook</a>'\n",
       "            + ' to learn more about interactive tables.';\n",
       "          element.innerHTML = '';\n",
       "          dataTable['output_type'] = 'display_data';\n",
       "          await google.colab.output.renderOutput(dataTable, element);\n",
       "          const docLink = document.createElement('div');\n",
       "          docLink.innerHTML = docLinkHtml;\n",
       "          element.appendChild(docLink);\n",
       "        }\n",
       "      </script>\n",
       "    </div>\n",
       "  </div>\n",
       "  "
      ],
      "text/plain": [
       "            t2m        u10       v10       SST        SIC    r1_MAR    r2_MAR  \\\n",
       "1721   0.020556   7.363804 -2.125182 -0.122643  70.000000  1.025703  1.025662   \n",
       "2189 -14.552263   8.235680  2.681324 -1.689860  92.051823  0.348598  0.342233   \n",
       "1098  -7.382847   9.746191 -5.343643 -1.689860  93.822372  0.101479  0.101479   \n",
       "1002   0.225807  11.379986 -1.245571 -0.797652  70.000000  1.132794  1.132709   \n",
       "776  -20.713898   4.038459 -1.860791 -1.689210  94.932907  0.000000  0.000000   \n",
       "\n",
       "      r3_MAR        r4_MAR        r5_MAR  Y4  \n",
       "1721     0.0  0.000000e+00  0.000000e+00   0  \n",
       "2189     0.0  0.000000e+00  0.000000e+00   0  \n",
       "1098     0.0  0.000000e+00  0.000000e+00   0  \n",
       "1002     0.0  8.906308e-13  1.129686e-11   0  \n",
       "776      0.0  0.000000e+00  0.000000e+00   1  "
      ]
     },
     "execution_count": 140,
     "metadata": {},
     "output_type": "execute_result"
    }
   ],
   "source": [
    "trainset.head()"
   ]
  },
  {
   "cell_type": "code",
   "execution_count": 141,
   "metadata": {
    "colab": {
     "base_uri": "https://localhost:8080/",
     "height": 206
    },
    "id": "bYArHTJKYr0W",
    "outputId": "f095be4e-f57d-4ac5-8cdf-e2c455628a1c"
   },
   "outputs": [
    {
     "data": {
      "text/html": [
       "\n",
       "  <div id=\"df-f2a71ede-5022-4589-9087-57f100c3a5b0\">\n",
       "    <div class=\"colab-df-container\">\n",
       "      <div>\n",
       "<style scoped>\n",
       "    .dataframe tbody tr th:only-of-type {\n",
       "        vertical-align: middle;\n",
       "    }\n",
       "\n",
       "    .dataframe tbody tr th {\n",
       "        vertical-align: top;\n",
       "    }\n",
       "\n",
       "    .dataframe thead th {\n",
       "        text-align: right;\n",
       "    }\n",
       "</style>\n",
       "<table border=\"1\" class=\"dataframe\">\n",
       "  <thead>\n",
       "    <tr style=\"text-align: right;\">\n",
       "      <th></th>\n",
       "      <th>t2m</th>\n",
       "      <th>u10</th>\n",
       "      <th>v10</th>\n",
       "      <th>SST</th>\n",
       "      <th>SIC</th>\n",
       "      <th>r1_MAR</th>\n",
       "      <th>r2_MAR</th>\n",
       "      <th>r3_MAR</th>\n",
       "      <th>r4_MAR</th>\n",
       "      <th>r5_MAR</th>\n",
       "    </tr>\n",
       "  </thead>\n",
       "  <tbody>\n",
       "    <tr>\n",
       "      <th>602</th>\n",
       "      <td>0.090342</td>\n",
       "      <td>6.815134</td>\n",
       "      <td>-1.947226</td>\n",
       "      <td>-0.040705</td>\n",
       "      <td>70.000000</td>\n",
       "      <td>2.239814</td>\n",
       "      <td>2.222310</td>\n",
       "      <td>0.103111</td>\n",
       "      <td>0.062211</td>\n",
       "      <td>0.009027</td>\n",
       "    </tr>\n",
       "    <tr>\n",
       "      <th>563</th>\n",
       "      <td>1.219222</td>\n",
       "      <td>6.283123</td>\n",
       "      <td>-0.772717</td>\n",
       "      <td>1.053746</td>\n",
       "      <td>70.000000</td>\n",
       "      <td>136.714797</td>\n",
       "      <td>77.925982</td>\n",
       "      <td>6.806291</td>\n",
       "      <td>47.009046</td>\n",
       "      <td>29.612820</td>\n",
       "    </tr>\n",
       "    <tr>\n",
       "      <th>1633</th>\n",
       "      <td>-0.170327</td>\n",
       "      <td>6.124297</td>\n",
       "      <td>0.650931</td>\n",
       "      <td>-1.381619</td>\n",
       "      <td>86.392208</td>\n",
       "      <td>42.632207</td>\n",
       "      <td>33.321316</td>\n",
       "      <td>2.611551</td>\n",
       "      <td>4.538003</td>\n",
       "      <td>3.496955</td>\n",
       "    </tr>\n",
       "    <tr>\n",
       "      <th>276</th>\n",
       "      <td>-4.213772</td>\n",
       "      <td>0.970789</td>\n",
       "      <td>3.572798</td>\n",
       "      <td>-1.690511</td>\n",
       "      <td>0.000000</td>\n",
       "      <td>2.227712</td>\n",
       "      <td>2.222598</td>\n",
       "      <td>0.000000</td>\n",
       "      <td>0.000000</td>\n",
       "      <td>0.000000</td>\n",
       "    </tr>\n",
       "    <tr>\n",
       "      <th>1160</th>\n",
       "      <td>-18.764014</td>\n",
       "      <td>1.851550</td>\n",
       "      <td>4.042263</td>\n",
       "      <td>-1.690511</td>\n",
       "      <td>85.173472</td>\n",
       "      <td>0.100962</td>\n",
       "      <td>0.099845</td>\n",
       "      <td>0.000000</td>\n",
       "      <td>0.000000</td>\n",
       "      <td>0.000000</td>\n",
       "    </tr>\n",
       "  </tbody>\n",
       "</table>\n",
       "</div>\n",
       "      <button class=\"colab-df-convert\" onclick=\"convertToInteractive('df-f2a71ede-5022-4589-9087-57f100c3a5b0')\"\n",
       "              title=\"Convert this dataframe to an interactive table.\"\n",
       "              style=\"display:none;\">\n",
       "        \n",
       "  <svg xmlns=\"http://www.w3.org/2000/svg\" height=\"24px\"viewBox=\"0 0 24 24\"\n",
       "       width=\"24px\">\n",
       "    <path d=\"M0 0h24v24H0V0z\" fill=\"none\"/>\n",
       "    <path d=\"M18.56 5.44l.94 2.06.94-2.06 2.06-.94-2.06-.94-.94-2.06-.94 2.06-2.06.94zm-11 1L8.5 8.5l.94-2.06 2.06-.94-2.06-.94L8.5 2.5l-.94 2.06-2.06.94zm10 10l.94 2.06.94-2.06 2.06-.94-2.06-.94-.94-2.06-.94 2.06-2.06.94z\"/><path d=\"M17.41 7.96l-1.37-1.37c-.4-.4-.92-.59-1.43-.59-.52 0-1.04.2-1.43.59L10.3 9.45l-7.72 7.72c-.78.78-.78 2.05 0 2.83L4 21.41c.39.39.9.59 1.41.59.51 0 1.02-.2 1.41-.59l7.78-7.78 2.81-2.81c.8-.78.8-2.07 0-2.86zM5.41 20L4 18.59l7.72-7.72 1.47 1.35L5.41 20z\"/>\n",
       "  </svg>\n",
       "      </button>\n",
       "      \n",
       "  <style>\n",
       "    .colab-df-container {\n",
       "      display:flex;\n",
       "      flex-wrap:wrap;\n",
       "      gap: 12px;\n",
       "    }\n",
       "\n",
       "    .colab-df-convert {\n",
       "      background-color: #E8F0FE;\n",
       "      border: none;\n",
       "      border-radius: 50%;\n",
       "      cursor: pointer;\n",
       "      display: none;\n",
       "      fill: #1967D2;\n",
       "      height: 32px;\n",
       "      padding: 0 0 0 0;\n",
       "      width: 32px;\n",
       "    }\n",
       "\n",
       "    .colab-df-convert:hover {\n",
       "      background-color: #E2EBFA;\n",
       "      box-shadow: 0px 1px 2px rgba(60, 64, 67, 0.3), 0px 1px 3px 1px rgba(60, 64, 67, 0.15);\n",
       "      fill: #174EA6;\n",
       "    }\n",
       "\n",
       "    [theme=dark] .colab-df-convert {\n",
       "      background-color: #3B4455;\n",
       "      fill: #D2E3FC;\n",
       "    }\n",
       "\n",
       "    [theme=dark] .colab-df-convert:hover {\n",
       "      background-color: #434B5C;\n",
       "      box-shadow: 0px 1px 3px 1px rgba(0, 0, 0, 0.15);\n",
       "      filter: drop-shadow(0px 1px 2px rgba(0, 0, 0, 0.3));\n",
       "      fill: #FFFFFF;\n",
       "    }\n",
       "  </style>\n",
       "\n",
       "      <script>\n",
       "        const buttonEl =\n",
       "          document.querySelector('#df-f2a71ede-5022-4589-9087-57f100c3a5b0 button.colab-df-convert');\n",
       "        buttonEl.style.display =\n",
       "          google.colab.kernel.accessAllowed ? 'block' : 'none';\n",
       "\n",
       "        async function convertToInteractive(key) {\n",
       "          const element = document.querySelector('#df-f2a71ede-5022-4589-9087-57f100c3a5b0');\n",
       "          const dataTable =\n",
       "            await google.colab.kernel.invokeFunction('convertToInteractive',\n",
       "                                                     [key], {});\n",
       "          if (!dataTable) return;\n",
       "\n",
       "          const docLinkHtml = 'Like what you see? Visit the ' +\n",
       "            '<a target=\"_blank\" href=https://colab.research.google.com/notebooks/data_table.ipynb>data table notebook</a>'\n",
       "            + ' to learn more about interactive tables.';\n",
       "          element.innerHTML = '';\n",
       "          dataTable['output_type'] = 'display_data';\n",
       "          await google.colab.output.renderOutput(dataTable, element);\n",
       "          const docLink = document.createElement('div');\n",
       "          docLink.innerHTML = docLinkHtml;\n",
       "          element.appendChild(docLink);\n",
       "        }\n",
       "      </script>\n",
       "    </div>\n",
       "  </div>\n",
       "  "
      ],
      "text/plain": [
       "            t2m       u10       v10       SST        SIC      r1_MAR  \\\n",
       "602    0.090342  6.815134 -1.947226 -0.040705  70.000000    2.239814   \n",
       "563    1.219222  6.283123 -0.772717  1.053746  70.000000  136.714797   \n",
       "1633  -0.170327  6.124297  0.650931 -1.381619  86.392208   42.632207   \n",
       "276   -4.213772  0.970789  3.572798 -1.690511   0.000000    2.227712   \n",
       "1160 -18.764014  1.851550  4.042263 -1.690511  85.173472    0.100962   \n",
       "\n",
       "         r2_MAR    r3_MAR     r4_MAR     r5_MAR  \n",
       "602    2.222310  0.103111   0.062211   0.009027  \n",
       "563   77.925982  6.806291  47.009046  29.612820  \n",
       "1633  33.321316  2.611551   4.538003   3.496955  \n",
       "276    2.222598  0.000000   0.000000   0.000000  \n",
       "1160   0.099845  0.000000   0.000000   0.000000  "
      ]
     },
     "execution_count": 141,
     "metadata": {},
     "output_type": "execute_result"
    }
   ],
   "source": [
    "X_train = trainset.drop([\"Y4\"] , axis=1)\n",
    "y_train = trainset[\"Y4\"]\n",
    "X_train.head()\n",
    "\n",
    "X_test = testset.drop([\"Y4\"] , axis=1)\n",
    "y_test = testset[\"Y4\"]\n",
    "X_test.head()\n"
   ]
  },
  {
   "cell_type": "markdown",
   "metadata": {
    "id": "ITviLG79YwCF"
   },
   "source": [
    "## **Evaluation**"
   ]
  },
  {
   "cell_type": "code",
   "execution_count": 142,
   "metadata": {
    "id": "IaaWsFs6Ywqt"
   },
   "outputs": [],
   "source": [
    "from sklearn.metrics import f1_score, confusion_matrix, classification_report\n",
    "from sklearn.model_selection import learning_curve\n",
    "from sklearn.metrics import roc_curve\n",
    "from sklearn.metrics import auc\n",
    "from sklearn.metrics import roc_auc_score"
   ]
  },
  {
   "cell_type": "code",
   "execution_count": 143,
   "metadata": {
    "id": "la0iZwy9Y5IX"
   },
   "outputs": [],
   "source": [
    "def plot_roc_curve(true_y, y_prob):\n",
    "    \"\"\"\n",
    "    plots the roc curve based of the probabilities\n",
    "    \"\"\"\n",
    "\n",
    "    fpr, tpr, thresholds = roc_curve(true_y, y_prob)\n",
    "    plt.plot(fpr, tpr)\n",
    "    plt.xlabel('False Positive Rate')\n",
    "    plt.ylabel('True Positive Rate')\n",
    "\n",
    "def evaluation(model):\n",
    "    \n",
    "    model.fit(X_train, y_train)\n",
    "    ypred = model.predict(X_test)\n",
    "    \n",
    "    print(confusion_matrix(y_test, ypred))\n",
    "    print(classification_report(y_test, ypred))\n",
    "    \n",
    "    N, train_score, val_score = learning_curve(model, X_train, y_train,\n",
    "                                              cv=4, scoring='f1',\n",
    "                                               train_sizes=np.linspace(0.1, 1, 10))\n",
    "    \n",
    "    \n",
    "    plt.figure(figsize=(12, 8))\n",
    "    plt.plot(N, train_score.mean(axis=1), label='train score')\n",
    "    plt.plot(N, val_score.mean(axis=1), label='validation score')\n",
    "    plt.legend()\n",
    "    \n",
    "    print(\"using auc because our data is imbalanced\")\n",
    "    plot_roc_curve(y_test, ypred)\n",
    "    print(f'model 1 AUC score: {roc_auc_score(y_test, ypred)}')"
   ]
  },
  {
   "cell_type": "markdown",
   "metadata": {
    "id": "WJxkWPrzsN6U"
   },
   "source": [
    "The target variable is imbalance so we proceed with the AUC.\n",
    "\n",
    "The ROC AUC is sensitive to class imbalance in the sense that when there is a minority class, you typically define this as the positive class and it will have a strong impact on the AUC value. This is very much desirable behaviour. Accuracy is for example not sensitive in that way.\n",
    "\n",
    "AUC stands for \"Area under the ROC Curve.\" That is, AUC measures the entire two-dimensional area underneath the entire ROC curve (think integral calculus) from (0,0) to (1,1).\n",
    "AUC provides an aggregate measure of performance across all possible classification thresholds. One way of interpreting AUC is as the probability that the model ranks a random positive example more highly than a random negative example."
   ]
  },
  {
   "cell_type": "markdown",
   "metadata": {
    "id": "Po5i9OgmY_wa"
   },
   "source": [
    "## **Modelisation**"
   ]
  },
  {
   "cell_type": "code",
   "execution_count": 144,
   "metadata": {
    "id": "FPgm7N0lY-5o"
   },
   "outputs": [],
   "source": [
    "from sklearn.tree import DecisionTreeClassifier\n",
    "from sklearn.ensemble import RandomForestClassifier, AdaBoostClassifier\n",
    "from sklearn.svm import SVC\n",
    "from sklearn.neighbors import KNeighborsClassifier\n",
    "from sklearn.pipeline import make_pipeline\n",
    "from sklearn.feature_selection import SelectKBest, f_classif\n",
    "from sklearn.preprocessing import PolynomialFeatures, StandardScaler"
   ]
  },
  {
   "cell_type": "code",
   "execution_count": 145,
   "metadata": {
    "id": "O-6ZZ5pIZHqN"
   },
   "outputs": [],
   "source": [
    "RandomForest = make_pipeline( RandomForestClassifier(random_state=0)) #No need for StandardScaler for the random Forest because the algo does not take into account the sizes of the variables\n",
    "# AdaBoost = make_pipeline(preprocessor, AdaBoostClassifier(random_state=0))\n",
    "SVM = make_pipeline( StandardScaler(), SVC(random_state=0))\n",
    "KNN = make_pipeline( StandardScaler(), KNeighborsClassifier())"
   ]
  },
  {
   "cell_type": "code",
   "execution_count": 146,
   "metadata": {
    "id": "mV7qr1UWZIjt"
   },
   "outputs": [],
   "source": [
    "dict_of_models = {'RandomForest': RandomForest,\n",
    "#                   'AdaBoost' : AdaBoost,\n",
    "                  'SVM': SVM,\n",
    "                  'KNN': KNN\n",
    "                 }"
   ]
  },
  {
   "cell_type": "code",
   "execution_count": 147,
   "metadata": {
    "colab": {
     "base_uri": "https://localhost:8080/",
     "height": 1000
    },
    "id": "A1L5c7roZLUf",
    "outputId": "7983fc49-53ce-449d-f97c-4dd9f0566a8b"
   },
   "outputs": [
    {
     "name": "stdout",
     "output_type": "stream",
     "text": [
      "RandomForest\n",
      "[[402   9]\n",
      " [ 86  15]]\n",
      "              precision    recall  f1-score   support\n",
      "\n",
      "           0       0.82      0.98      0.89       411\n",
      "           1       0.62      0.15      0.24       101\n",
      "\n",
      "    accuracy                           0.81       512\n",
      "   macro avg       0.72      0.56      0.57       512\n",
      "weighted avg       0.78      0.81      0.77       512\n",
      "\n",
      "using auc because our data is imbalanced\n",
      "model 1 AUC score: 0.5633085206330852\n",
      "SVM\n",
      "[[411   0]\n",
      " [101   0]]\n",
      "              precision    recall  f1-score   support\n",
      "\n",
      "           0       0.80      1.00      0.89       411\n",
      "           1       0.00      0.00      0.00       101\n",
      "\n",
      "    accuracy                           0.80       512\n",
      "   macro avg       0.40      0.50      0.45       512\n",
      "weighted avg       0.64      0.80      0.71       512\n",
      "\n"
     ]
    },
    {
     "name": "stderr",
     "output_type": "stream",
     "text": [
      "/usr/local/lib/python3.7/dist-packages/sklearn/metrics/_classification.py:1318: UndefinedMetricWarning: Precision and F-score are ill-defined and being set to 0.0 in labels with no predicted samples. Use `zero_division` parameter to control this behavior.\n",
      "  _warn_prf(average, modifier, msg_start, len(result))\n",
      "/usr/local/lib/python3.7/dist-packages/sklearn/metrics/_classification.py:1318: UndefinedMetricWarning: Precision and F-score are ill-defined and being set to 0.0 in labels with no predicted samples. Use `zero_division` parameter to control this behavior.\n",
      "  _warn_prf(average, modifier, msg_start, len(result))\n",
      "/usr/local/lib/python3.7/dist-packages/sklearn/metrics/_classification.py:1318: UndefinedMetricWarning: Precision and F-score are ill-defined and being set to 0.0 in labels with no predicted samples. Use `zero_division` parameter to control this behavior.\n",
      "  _warn_prf(average, modifier, msg_start, len(result))\n"
     ]
    },
    {
     "name": "stdout",
     "output_type": "stream",
     "text": [
      "using auc because our data is imbalanced\n",
      "model 1 AUC score: 0.5\n",
      "KNN\n",
      "[[387  24]\n",
      " [ 89  12]]\n",
      "              precision    recall  f1-score   support\n",
      "\n",
      "           0       0.81      0.94      0.87       411\n",
      "           1       0.33      0.12      0.18       101\n",
      "\n",
      "    accuracy                           0.78       512\n",
      "   macro avg       0.57      0.53      0.52       512\n",
      "weighted avg       0.72      0.78      0.74       512\n",
      "\n",
      "using auc because our data is imbalanced\n",
      "model 1 AUC score: 0.5302088603020886\n"
     ]
    },
    {
     "data": {
      "image/png": "[encoded data removed]",
      "text/plain": [
       "<Figure size 864x576 with 1 Axes>"
      ]
     },
     "metadata": {
      "needs_background": "light"
     },
     "output_type": "display_data"
    },
    {
     "data": {
      "image/png": "[encoded data removed]",
      "text/plain": [
       "<Figure size 864x576 with 1 Axes>"
      ]
     },
     "metadata": {
      "needs_background": "light"
     },
     "output_type": "display_data"
    },
    {
     "data": {
      "image/png": "[encoded data removed]",
      "text/plain": [
       "<Figure size 864x576 with 1 Axes>"
      ]
     },
     "metadata": {
      "needs_background": "light"
     },
     "output_type": "display_data"
    }
   ],
   "source": [
    "for name, model in dict_of_models.items():\n",
    "    print(name)\n",
    "    evaluation(model)"
   ]
  },
  {
   "cell_type": "markdown",
   "metadata": {
    "id": "9V_8lXByZQEh"
   },
   "source": [
    "\n",
    "A learning curve is a plot of model learning performance over experience or time.\n",
    "Learning curves are plots that show changes in learning performance over time in terms of experience.\n",
    "\n",
    "Learning learn from a training dataset incrementally. The model can be evaluated on the training dataset and on a hold out validation dataset after each update during training and plots of the measured performance can created to show learning curves\n",
    "\n",
    "The f1-score gives us the harmonic mean of precision and recall. The scores corresponding to every class will tell us the accuracy of the classifier in classifying the data points in that particular class compared to all other classes.\n",
    "\n",
    "The support is the number of samples of the true response that lie in that class.\n",
    "\n",
    "Random Forest: model who is overfitting. We can see it in particular because the score of the train score is much higher than that of the validation score"
   ]
  },
  {
   "cell_type": "markdown",
   "metadata": {
    "id": "VSVyNAU-f_e0"
   },
   "source": [
    "## **Random Forest best parameters**\n",
    "To look at the available hyperparameters, we can create a random forest and examine the default values."
   ]
  },
  {
   "cell_type": "code",
   "execution_count": 148,
   "metadata": {
    "colab": {
     "base_uri": "https://localhost:8080/"
    },
    "id": "zx-fwqgmgHyY",
    "outputId": "3a4ca7e0-2fab-4a7e-e08d-8a8142f9ad74"
   },
   "outputs": [
    {
     "name": "stdout",
     "output_type": "stream",
     "text": [
      "Parameters currently in use:\n",
      "\n",
      "{'bootstrap': True,\n",
      " 'ccp_alpha': 0.0,\n",
      " 'criterion': 'squared_error',\n",
      " 'max_depth': None,\n",
      " 'max_features': 'auto',\n",
      " 'max_leaf_nodes': None,\n",
      " 'max_samples': None,\n",
      " 'min_impurity_decrease': 0.0,\n",
      " 'min_samples_leaf': 1,\n",
      " 'min_samples_split': 2,\n",
      " 'min_weight_fraction_leaf': 0.0,\n",
      " 'n_estimators': 100,\n",
      " 'n_jobs': None,\n",
      " 'oob_score': False,\n",
      " 'random_state': 42,\n",
      " 'verbose': 0,\n",
      " 'warm_start': False}\n"
     ]
    }
   ],
   "source": [
    "from sklearn.model_selection import GridSearchCV\n",
    "from sklearn.ensemble import RandomForestRegressor\n",
    "rf = RandomForestRegressor(random_state = 42)\n",
    "from pprint import pprint\n",
    "# Look at parameters used by our current forest\n",
    "print('Parameters currently in use:\\n')\n",
    "pprint(rf.get_params())"
   ]
  },
  {
   "cell_type": "markdown",
   "metadata": {
    "id": "meKk5nkPgQvJ"
   },
   "source": [
    "**Random Hyperparameter Grid**\n",
    "To use RandomizedSearchCV, we first need to create a parameter grid to sample from during fitting:"
   ]
  },
  {
   "cell_type": "code",
   "execution_count": 149,
   "metadata": {
    "colab": {
     "base_uri": "https://localhost:8080/"
    },
    "id": "gwpt5Ct3gUdE",
    "outputId": "abb60685-992d-473e-e45d-ab991ae7487f"
   },
   "outputs": [
    {
     "name": "stdout",
     "output_type": "stream",
     "text": [
      "{'bootstrap': [True, False],\n",
      " 'max_depth': [10, 20, 30, 40, 50, 60, 70, 80, 90, 100, 110, None],\n",
      " 'max_features': ['auto', 'sqrt'],\n",
      " 'min_samples_leaf': [1, 2, 4],\n",
      " 'min_samples_split': [2, 5, 10],\n",
      " 'n_estimators': [200, 400, 600, 800, 1000, 1200, 1400, 1600, 1800, 2000]}\n"
     ]
    }
   ],
   "source": [
    "from sklearn.model_selection import RandomizedSearchCV\n",
    "# Number of trees in random forest\n",
    "n_estimators = [int(x) for x in np.linspace(start = 200, stop = 2000, num = 10)]\n",
    "# Number of features to consider at every split\n",
    "max_features = ['auto', 'sqrt']\n",
    "# Maximum number of levels in tree\n",
    "max_depth = [int(x) for x in np.linspace(10, 110, num = 11)]\n",
    "max_depth.append(None)\n",
    "# Minimum number of samples required to split a node\n",
    "min_samples_split = [2, 5, 10]\n",
    "# Minimum number of samples required at each leaf node\n",
    "min_samples_leaf = [1, 2, 4]\n",
    "# Method of selecting samples for training each tree\n",
    "bootstrap = [True, False]\n",
    "# Create the random grid\n",
    "random_grid = {'n_estimators': n_estimators,\n",
    "               'max_features': max_features,\n",
    "               'max_depth': max_depth,\n",
    "               'min_samples_split': min_samples_split,\n",
    "               'min_samples_leaf': min_samples_leaf,\n",
    "               'bootstrap': bootstrap}\n",
    "pprint(random_grid)"
   ]
  },
  {
   "cell_type": "code",
   "execution_count": 123,
   "metadata": {
    "colab": {
     "base_uri": "https://localhost:8080/"
    },
    "id": "lspuPfZBgXFs",
    "outputId": "a628d27f-f177-432b-e655-a099c7495e0c"
   },
   "outputs": [
    {
     "name": "stdout",
     "output_type": "stream",
     "text": [
      "Fitting 3 folds for each of 100 candidates, totalling 300 fits\n"
     ]
    },
    {
     "data": {
      "text/plain": [
       "RandomizedSearchCV(cv=3, estimator=RandomForestRegressor(), n_iter=100,\n",
       "                   n_jobs=-1,\n",
       "                   param_distributions={'bootstrap': [True, False],\n",
       "                                        'max_depth': [10, 20, 30, 40, 50, 60,\n",
       "                                                      70, 80, 90, 100, 110,\n",
       "                                                      None],\n",
       "                                        'max_features': ['auto', 'sqrt'],\n",
       "                                        'min_samples_leaf': [1, 2, 4],\n",
       "                                        'min_samples_split': [2, 5, 10],\n",
       "                                        'n_estimators': [200, 400, 600, 800,\n",
       "                                                         1000, 1200, 1400, 1600,\n",
       "                                                         1800, 2000]},\n",
       "                   random_state=42, verbose=2)"
      ]
     },
     "execution_count": 123,
     "metadata": {},
     "output_type": "execute_result"
    }
   ],
   "source": [
    "# Use the random grid to search for best hyperparameters\n",
    "# First create the base model to tune\n",
    "rf = RandomForestRegressor()\n",
    "# Random search of parameters, using 3 fold cross validation, \n",
    "# search across 100 different combinations, and use all available cores\n",
    "rf_random = RandomizedSearchCV(estimator = rf, param_distributions = random_grid, n_iter = 100, cv = 3, verbose=2, random_state=42, n_jobs = -1)\n",
    "# Fit the random search model\n",
    "rf_random.fit(X_train, y_train)"
   ]
  },
  {
   "cell_type": "markdown",
   "metadata": {
    "id": "7-cEkwV6g7is"
   },
   "source": [
    "The most important arguments in RandomizedSearchCV are n_iter, which controls the number of different combinations to try, and cv which is the number of folds to use for cross validation (we use 100 and 3 respectively). More iterations will cover a wider search space and more cv folds reduces the chances of overfitting, but raising each will increase the run time. Machine learning is a field of trade-offs, and performance vs time is one of the most fundamental.\n",
    "\n",
    "We can view the best parameters from fitting the random search:\n"
   ]
  },
  {
   "cell_type": "code",
   "execution_count": 124,
   "metadata": {
    "colab": {
     "base_uri": "https://localhost:8080/"
    },
    "id": "qNCQvcJdhGoI",
    "outputId": "813edb5d-7b4a-49e4-a988-f52a759c7c29"
   },
   "outputs": [
    {
     "data": {
      "text/plain": [
       "{'n_estimators': 1600,\n",
       " 'min_samples_split': 2,\n",
       " 'min_samples_leaf': 4,\n",
       " 'max_features': 'sqrt',\n",
       " 'max_depth': 10,\n",
       " 'bootstrap': True}"
      ]
     },
     "execution_count": 124,
     "metadata": {},
     "output_type": "execute_result"
    }
   ],
   "source": [
    "rf_random.best_params_"
   ]
  },
  {
   "cell_type": "markdown",
   "metadata": {
    "id": "bhQK8ZViZSo2"
   },
   "source": [
    "### **Improving results.**"
   ]
  },
  {
   "cell_type": "markdown",
   "metadata": {
    "id": "PWN2b7iKZaK_"
   },
   "source": [
    " ***1. Voting classifier*** \n",
    "From the SGDClassifier, DecisionTreeClassifier and KNeighborsClassifier models, we count each prediction of the model as a vote and we finally choose the one that has obtained the most votes."
   ]
  },
  {
   "cell_type": "code",
   "execution_count": 150,
   "metadata": {
    "id": "dzoC2LqjZXBO"
   },
   "outputs": [],
   "source": [
    "from sklearn.linear_model import SGDClassifier\n",
    "from sklearn.tree import DecisionTreeClassifier\n",
    "from sklearn.neighbors import KNeighborsClassifier\n",
    "from sklearn.ensemble import VotingClassifier"
   ]
  },
  {
   "cell_type": "code",
   "execution_count": 151,
   "metadata": {
    "colab": {
     "base_uri": "https://localhost:8080/"
    },
    "id": "_rfYFp94PBwn",
    "outputId": "621d5696-2c14-4482-acc8-e7a7b56e1b20"
   },
   "outputs": [
    {
     "name": "stdout",
     "output_type": "stream",
     "text": [
      "SGDClassifier 0.765625\n",
      "DecisionTreeClassifier 0.71875\n",
      "KNeighborsClassifier 0.775390625\n",
      "VotingClassifier 0.78515625\n"
     ]
    }
   ],
   "source": [
    "model_1 = SGDClassifier(random_state=0)\n",
    "model_2 = DecisionTreeClassifier(random_state=0)\n",
    "model_3 = KNeighborsClassifier(n_neighbors=2)\n",
    "\n",
    "model_4 = VotingClassifier([('SGD', model_1),\n",
    "                            ('Tree', model_2),\n",
    "                            ('KNN', model_3)],\n",
    "                          voting='hard')\n",
    "\n",
    "for model in (model_1, model_2, model_3, model_4):\n",
    "    model.fit(X_train, y_train)\n",
    "    print(model.__class__.__name__, model.score(X_test, y_test))"
   ]
  },
  {
   "cell_type": "markdown",
   "metadata": {
    "id": "BxwslKYAZjOs"
   },
   "source": [
    "We get a slight improvement with the VotingClassifier"
   ]
  },
  {
   "cell_type": "markdown",
   "metadata": {
    "id": "g7AjLpzRZnLf"
   },
   "source": [
    "***2. Stacking :***\n",
    "\n",
    "We train a machine learning model on top of the crowd predictions (SGD, Tree, KNN models). From the different models used, we train a model (here KNeighborsClassifier ) to predict the errors of our previous models to get the final result."
   ]
  },
  {
   "cell_type": "code",
   "execution_count": 152,
   "metadata": {
    "id": "Nd9po8UUZpQh"
   },
   "outputs": [],
   "source": [
    "from sklearn.ensemble import StackingClassifier"
   ]
  },
  {
   "cell_type": "code",
   "execution_count": 153,
   "metadata": {
    "colab": {
     "base_uri": "https://localhost:8080/"
    },
    "id": "Nfd3W-bxZq6P",
    "outputId": "7aeeb52a-6694-43ea-dc24-3c8bf809af5a"
   },
   "outputs": [
    {
     "data": {
      "text/plain": [
       "0.7734375"
      ]
     },
     "execution_count": 153,
     "metadata": {},
     "output_type": "execute_result"
    }
   ],
   "source": [
    "model = StackingClassifier([('SGD', model_1),\n",
    "                            ('Tree', model_2),\n",
    "                            ('KNN', model_3)],\n",
    "                             final_estimator=KNeighborsClassifier())\n",
    "\n",
    "model.fit(X_train, y_train)\n",
    "model.score(X_test, y_test)"
   ]
  },
  {
   "cell_type": "markdown",
   "metadata": {
    "id": "zkYrbrZ9ZrYe"
   },
   "source": [
    "The results are not much better than for the KNeighborsClassifier"
   ]
  },
  {
   "cell_type": "markdown",
   "metadata": {
    "id": "iwFEMZprhoS1"
   },
   "source": [
    "## **Conclusion**\n",
    "\n",
    "We can conclude that by using different models we can finally build a performant model and have good results. However, using a threshold to 1 can also not be very convenient in the real life for doing some more precise prediction. That's why we may now should use another model who can be train to predict the values distributed between 1 and 238 to be more convenient in the \"real life\".\n"
   ]
  }
 ],
 "metadata": {
  "colab": {
   "provenance": []
  },
  "kernelspec": {
   "display_name": "Python 3 (ipykernel)",
   "language": "python",
   "name": "python3"
  },
  "language_info": {
   "codemirror_mode": {
    "name": "ipython",
    "version": 3
   },
   "file_extension": ".py",
   "mimetype": "text/x-python",
   "name": "python",
   "nbconvert_exporter": "python",
   "pygments_lexer": "ipython3",
   "version": "3.10.6"
  }
 },
 "nbformat": 4,
 "nbformat_minor": 1
}
